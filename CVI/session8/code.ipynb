{
 "cells": [
  {
   "cell_type": "code",
   "execution_count": 4,
   "id": "09caade9",
   "metadata": {},
   "outputs": [],
   "source": [
    "import cv2\n",
    "import numpy as np"
   ]
  },
  {
   "cell_type": "code",
   "execution_count": 28,
   "id": "028fb4ea",
   "metadata": {},
   "outputs": [],
   "source": [
    "img = cv2.imread(\"../money.JPG\")\n",
    "\n",
    "cv2.imshow('frame', img)\n",
    "cv2.waitKey(0)\n",
    "cv2.destroyAllWindows()"
   ]
  },
  {
   "cell_type": "code",
   "execution_count": 10,
   "id": "7a48938f",
   "metadata": {},
   "outputs": [
    {
     "data": {
      "text/plain": [
       "(1800, 1440, 3)"
      ]
     },
     "execution_count": 10,
     "metadata": {},
     "output_type": "execute_result"
    }
   ],
   "source": [
    "img.shape"
   ]
  },
  {
   "cell_type": "code",
   "execution_count": 19,
   "id": "a26c4a07",
   "metadata": {},
   "outputs": [
    {
     "data": {
      "text/plain": [
       "(1800, 1440, 3)"
      ]
     },
     "execution_count": 19,
     "metadata": {},
     "output_type": "execute_result"
    }
   ],
   "source": [
    "kernel = np.array([-1,1])\n",
    "edge = cv2.filter2D(img, cv2.CV_8U, kernel)\n",
    "edge.shape"
   ]
  },
  {
   "cell_type": "code",
   "execution_count": 20,
   "id": "126216ec",
   "metadata": {},
   "outputs": [],
   "source": [
    "cv2.imshow('money', edge)\n",
    "cv2.waitKey(0)\n",
    "cv2.destroyAllWindows()"
   ]
  },
  {
   "cell_type": "code",
   "execution_count": 21,
   "id": "572ee5f8",
   "metadata": {},
   "outputs": [
    {
     "data": {
      "text/plain": [
       "dtype('float64')"
      ]
     },
     "execution_count": 21,
     "metadata": {},
     "output_type": "execute_result"
    }
   ],
   "source": [
    "noise = np.random.normal(0, 25, (img.shape))\n",
    "noise.dtype"
   ]
  },
  {
   "cell_type": "code",
   "execution_count": 29,
   "id": "78a3cc96",
   "metadata": {},
   "outputs": [],
   "source": [
    "noisy_img = img.astype('float32') + noise\n",
    "np.clip(noisy_img, 0 , 255).astype('uint8')\n",
    "\n",
    "cv2.imshow('noisy', noisy_img)\n",
    "cv2.waitKey(0)\n",
    "cv2.destroyAllWindows()"
   ]
  },
  {
   "cell_type": "code",
   "execution_count": 30,
   "id": "3286dd8d",
   "metadata": {},
   "outputs": [],
   "source": [
    "kernel = np.ones((3,3)) / 9\n",
    "denoise = cv2.filter2D(noisy_img, -1, kernel)\n",
    "\n",
    "cv2.imshow('de-noisy', denoise)\n",
    "cv2.waitKey(0)\n",
    "cv2.destroyAllWindows()\n"
   ]
  }
 ],
 "metadata": {
  "kernelspec": {
   "display_name": "CVI",
   "language": "python",
   "name": "python3"
  },
  "language_info": {
   "codemirror_mode": {
    "name": "ipython",
    "version": 3
   },
   "file_extension": ".py",
   "mimetype": "text/x-python",
   "name": "python",
   "nbconvert_exporter": "python",
   "pygments_lexer": "ipython3",
   "version": "3.12.10"
  }
 },
 "nbformat": 4,
 "nbformat_minor": 5
}
