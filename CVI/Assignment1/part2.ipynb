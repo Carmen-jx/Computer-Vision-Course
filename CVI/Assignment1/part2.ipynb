{
 "cells": [
  {
   "cell_type": "code",
   "execution_count": null,
   "id": "8d4e75ca",
   "metadata": {},
   "outputs": [],
   "source": [
    "import cv2\n",
    "import numpy as np "
   ]
  },
  {
   "cell_type": "code",
   "execution_count": null,
   "id": "9f6bbe9f",
   "metadata": {},
   "outputs": [],
   "source": [
    "#initialize alpha \n",
    "alpha = 0.5"
   ]
  },
  {
   "cell_type": "code",
   "execution_count": null,
   "id": "395b15ce",
   "metadata": {},
   "outputs": [],
   "source": [
    "#read and load the two images to be blended\n",
    "img1 = cv2.imread(\"./money.JPG\")\n",
    "img2 = cv2.imread(\"./simba.jpeg\")\n",
    "\n",
    "#resize image2 so that its the same size as image1\n",
    "img2 = cv2.resize(img2, (img1.shape[1], img1.shape[0]))"
   ]
  },
  {
   "cell_type": "code",
   "execution_count": 4,
   "id": "c7a70e72",
   "metadata": {},
   "outputs": [],
   "source": [
    "#makes new copies of the image data where each pixel is 32-bit so there won't be overflow when multiplying the 2 images\n",
    "img1_f = img1.astype(np.float32)\n",
    "img2_f = img2.astype(np.float32)"
   ]
  },
  {
   "cell_type": "code",
   "execution_count": 5,
   "id": "99739808",
   "metadata": {},
   "outputs": [],
   "source": [
    "#perform calculation using the formula and set values\n",
    "blend = (1.0 - alpha) * img1_f + alpha * img2_f\n",
    "\n",
    "#this will round the values ensuring that all the values will be in the rang of 0 - 255\n",
    "blend = np.clip(blend, 0, 255).astype(np.uint8)\n"
   ]
  },
  {
   "cell_type": "code",
   "execution_count": null,
   "id": "704a74c0",
   "metadata": {},
   "outputs": [
    {
     "data": {
      "text/plain": [
       "True"
      ]
     },
     "execution_count": 6,
     "metadata": {},
     "output_type": "execute_result"
    }
   ],
   "source": [
    "#display blended image and save it \n",
    "cv2.imshow('manual_blend', blend)\n",
    "cv2.waitKey(0)\n",
    "cv2.destroyAllWindows()\n",
    "cv2.imwrite('manual_blend.jpg', blend)"
   ]
  }
 ],
 "metadata": {
  "kernelspec": {
   "display_name": "CVI",
   "language": "python",
   "name": "python3"
  },
  "language_info": {
   "codemirror_mode": {
    "name": "ipython",
    "version": 3
   },
   "file_extension": ".py",
   "mimetype": "text/x-python",
   "name": "python",
   "nbconvert_exporter": "python",
   "pygments_lexer": "ipython3",
   "version": "3.12.10"
  }
 },
 "nbformat": 4,
 "nbformat_minor": 5
}
