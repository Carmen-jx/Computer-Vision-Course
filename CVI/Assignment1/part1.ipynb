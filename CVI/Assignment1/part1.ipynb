{
 "cells": [
  {
   "cell_type": "code",
   "execution_count": null,
   "id": "b6f71ee6",
   "metadata": {},
   "outputs": [],
   "source": [
    "import cv2\n",
    "import numpy as np\n",
    "import math"
   ]
  },
  {
   "cell_type": "code",
   "execution_count": null,
   "id": "1565343b",
   "metadata": {},
   "outputs": [],
   "source": [
    "#create a white image for the drawing\n",
    "img = np.ones((1000, 1000, 3), dtype=np.uint8) * 255\n"
   ]
  },
  {
   "cell_type": "code",
   "execution_count": null,
   "id": "c2b04136",
   "metadata": {},
   "outputs": [],
   "source": [
    "#assign dimensions for the circles\n",
    "radius = 80 \n",
    "center_distance = int((2 * radius + 70)/ math.sqrt(3))\n",
    "\n",
    "cx = 1000//2\n",
    "cy = 1000//2 - 50\n",
    "\n",
    "#start and end angles for ellipses\n",
    "start1 = 90/2 + 270\n",
    "end1 = 360 + (270 -90/2)\n",
    "\n",
    "#creating x,y coordinates for top circle\n",
    "theta = math.radians(90)\n",
    "x1 = int(cx + center_distance * math.cos(theta))\n",
    "y1 = int(cy - center_distance * math.sin(theta))\n",
    "\n",
    "#creating x,y coordinates for bottom left\n",
    "theta = math.radians(210)\n",
    "x2 = int(cx + center_distance * math.cos(theta))\n",
    "y2 = int(cy - center_distance * math.sin(theta))\n",
    "\n",
    "#creating x,y coordinates for bottom right\n",
    "theta = math.radians(330)\n",
    "x3 = int(cx + center_distance * math.cos(theta))\n",
    "y3 = int(cy - center_distance * math.sin(theta))\n",
    "\n",
    "#drawing the 3 ellipses\n",
    "cv2.ellipse(img, (x1, y1), (radius,radius), 180, start1, end1, (0 ,0 ,255), 50)\n",
    "cv2.ellipse(img, (x2, y2), (radius,radius), 90, start1, end1,(0, 255, 0), 50)\n",
    "cv2.ellipse(img, (x3, y3), (radius,radius), 0, start1, end1,(255, 0, 0), 50)\n",
    "\n",
    "\n"
   ]
  },
  {
   "cell_type": "code",
   "execution_count": null,
   "id": "dd6cfdbf",
   "metadata": {},
   "outputs": [],
   "source": [
    "#set the font size and draw the text onto the image\n",
    "font = cv2.FONT_HERSHEY_SIMPLEX\n",
    "cv2.putText(img, 'OpenCV', (270,750), font, 4, (0, 0, 0), 6, 6)"
   ]
  },
  {
   "cell_type": "code",
   "execution_count": null,
   "id": "e9969e35",
   "metadata": {},
   "outputs": [],
   "source": [
    "#display and save the logo\n",
    "cv2.imshow(\"logo\", img)\n",
    "cv2.waitKey(0)\n",
    "cv2.destroyAllWindows()\n",
    "cv2.imwrite(\"part1_logo.png\",img)"
   ]
  }
 ],
 "metadata": {
  "kernelspec": {
   "display_name": "CVI",
   "language": "python",
   "name": "python3"
  },
  "language_info": {
   "codemirror_mode": {
    "name": "ipython",
    "version": 3
   },
   "file_extension": ".py",
   "mimetype": "text/x-python",
   "name": "python",
   "nbconvert_exporter": "python",
   "pygments_lexer": "ipython3",
   "version": "3.12.10"
  }
 },
 "nbformat": 4,
 "nbformat_minor": 5
}
