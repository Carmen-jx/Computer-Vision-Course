{
 "cells": [
  {
   "cell_type": "code",
   "execution_count": 4,
   "id": "746a2415",
   "metadata": {},
   "outputs": [],
   "source": [
    "import numpy as np\n",
    "import cv2\n",
    "import matplotlib.pyplot as plt"
   ]
  },
  {
   "cell_type": "code",
   "execution_count": null,
   "id": "feef9e93",
   "metadata": {},
   "outputs": [],
   "source": [
    "img = cv2.imread(\"../money copy.JPG\")\n",
    "img.shape"
   ]
  },
  {
   "cell_type": "code",
   "execution_count": null,
   "id": "0c0189ef",
   "metadata": {},
   "outputs": [],
   "source": [
    "padded_img = cv2.copyMakeBorder(img, 512,512,0,0, cv2.BORDER_WRAP, value=[255,255,0])\n",
    "cv2.imshow('frame', padded_img)\n",
    "cv2.waitKey(0)\n",
    "cv2.destroyAllWindows()"
   ]
  },
  {
   "cell_type": "code",
   "execution_count": null,
   "id": "3062c906",
   "metadata": {},
   "outputs": [],
   "source": [
    "plt.imshow(cv2.cvtColor(padded_img, cv2.COLOR_BGR2RGB))\n",
    "plt.axis(off)\n",
    "plt.show(block=False)"
   ]
  },
  {
   "cell_type": "code",
   "execution_count": 7,
   "id": "13576af2",
   "metadata": {},
   "outputs": [
    {
     "data": {
      "text/plain": [
       "(1800, 1440, 3)"
      ]
     },
     "execution_count": 7,
     "metadata": {},
     "output_type": "execute_result"
    }
   ],
   "source": [
    "money_img = cv2.imread(\"../money copy.JPG\")\n",
    "money_img.shape"
   ]
  },
  {
   "cell_type": "code",
   "execution_count": 4,
   "id": "d98db1ec",
   "metadata": {},
   "outputs": [],
   "source": [
    "cv2.rectangle(money_img, (2000,500), (400,600),(50,  50, 0), thickness=-1 )\n",
    "cv2.imshow('frame', money_img)\n",
    "cv2.waitKey(0)\n",
    "cv2.destroyAllWindows()"
   ]
  },
  {
   "cell_type": "code",
   "execution_count": null,
   "id": "24efece8",
   "metadata": {},
   "outputs": [
    {
     "ename": "",
     "evalue": "",
     "output_type": "error",
     "traceback": [
      "\u001b[1;31mThe Kernel crashed while executing code in the current cell or a previous cell. \n",
      "\u001b[1;31mPlease review the code in the cell(s) to identify a possible cause of the failure. \n",
      "\u001b[1;31mClick <a href='https://aka.ms/vscodeJupyterKernelCrash'>here</a> for more info. \n",
      "\u001b[1;31mView Jupyter <a href='command:jupyter.viewOutput'>log</a> for further details."
     ]
    }
   ],
   "source": [
    "money_img = cv2.imread(\"../money copy.JPG\")\n",
    "money_img.shape\n",
    "cv2.putText(money_img, 'woof woof', (300,450), cv2.FONT_HERSHEY_SCRIPT_COMPLEX, 20, (20,100,20), thickness=5, lineType=cv2.LINE_8)\n",
    "cv2.imshow('frame', money_img)\n",
    "cv2.waitKey(0)\n",
    "cv2.destroyAllWindows() "
   ]
  }
 ],
 "metadata": {
  "kernelspec": {
   "display_name": "Python (CVI)",
   "language": "python",
   "name": "cvi"
  },
  "language_info": {
   "codemirror_mode": {
    "name": "ipython",
    "version": 3
   },
   "file_extension": ".py",
   "mimetype": "text/x-python",
   "name": "python",
   "nbconvert_exporter": "python",
   "pygments_lexer": "ipython3",
   "version": "3.12.4"
  }
 },
 "nbformat": 4,
 "nbformat_minor": 5
}
