{
 "cells": [
  {
   "cell_type": "code",
   "execution_count": 1,
   "id": "7b1c439e",
   "metadata": {},
   "outputs": [],
   "source": [
    "import cv2\n",
    "import numpy as np"
   ]
  },
  {
   "cell_type": "code",
   "execution_count": 4,
   "id": "7de851ea",
   "metadata": {},
   "outputs": [
    {
     "data": {
      "text/plain": [
       "array([[0],\n",
       "       [1]])"
      ]
     },
     "execution_count": 4,
     "metadata": {},
     "output_type": "execute_result"
    }
   ],
   "source": [
    "m = np.array([[2, 0],\n",
    "              [0, 1]\n",
    "              ])\n",
    "\n",
    "a = np.array([[0],\n",
    "              [1]])\n",
    "\n",
    "m @ a"
   ]
  },
  {
   "cell_type": "code",
   "execution_count": 8,
   "id": "5abecf85",
   "metadata": {},
   "outputs": [],
   "source": [
    "brighter_img = cv2.add(img, 50)\n",
    "cv2.imshow('brighter image', brighter_img)\n",
    "cv2.waitKey(0)\n",
    "cv2.destroyAllWindows()"
   ]
  }
 ],
 "metadata": {
  "kernelspec": {
   "display_name": "CVI",
   "language": "python",
   "name": "python3"
  },
  "language_info": {
   "codemirror_mode": {
    "name": "ipython",
    "version": 3
   },
   "file_extension": ".py",
   "mimetype": "text/x-python",
   "name": "python",
   "nbconvert_exporter": "python",
   "pygments_lexer": "ipython3",
   "version": "3.12.10"
  }
 },
 "nbformat": 4,
 "nbformat_minor": 5
}
