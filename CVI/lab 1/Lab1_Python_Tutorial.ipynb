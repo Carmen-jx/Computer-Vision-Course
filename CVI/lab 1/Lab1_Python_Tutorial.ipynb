{
 "cells": [
  {
   "cell_type": "markdown",
   "id": "1f4dcdc2",
   "metadata": {},
   "source": [
    "# Python Exercise for Beginners"
   ]
  },
  {
   "cell_type": "markdown",
   "id": "c3c6c215",
   "metadata": {},
   "source": [
    "#### 1. Write a program that prints your full name and your favorite hobby."
   ]
  },
  {
   "cell_type": "code",
   "execution_count": null,
   "id": "de4deae4",
   "metadata": {},
   "outputs": [],
   "source": [
    "#function definition, has parameters for name and hobby and prints a message\n",
    "def introduction(name, hobby):\n",
    "    print(\"Hi, my name is \" + name + \" and I love \" + hobby + \".\")\n",
    "\n",
    "#calling the function\n",
    "introduction(\"Carmen\", \"gardening\")"
   ]
  },
  {
   "cell_type": "markdown",
   "id": "cb1696cc",
   "metadata": {},
   "source": [
    "#### 2. Variables\n",
    "Define a variable age with your age.<br>\n",
    "Define a variable height in centimeters.<br>\n",
    "Print both in a complete sentence like:<br>"
   ]
  },
  {
   "cell_type": "code",
   "execution_count": null,
   "id": "793821c1",
   "metadata": {},
   "outputs": [],
   "source": [
    "#variable assignment\n",
    "age = 25\n",
    "height = 156\n",
    "# print statement\n",
    "print(\"I am \" + str(age) + \" years old, and \" + str(height) + \" cm tall.\")"
   ]
  },
  {
   "cell_type": "markdown",
   "id": "6e332174",
   "metadata": {},
   "source": [
    "#### 3. Arithemtic Operations<br>\n",
    "Create two variables a = 15 and b = 4.<br>\n",
    "Compute and print:<br>\n",
    "Sum<br>\n",
    "Difference<br>\n",
    "Product<br>\n",
    "Quotient<br>\n",
    "Remainder"
   ]
  },
  {
   "cell_type": "code",
   "execution_count": null,
   "id": "c036a41b",
   "metadata": {},
   "outputs": [],
   "source": [
    "#variable assignment\n",
    "a = 15\n",
    "b = 4\n",
    "#arithmetic operations: addition, subtraction, multiplication, division, modulus\n",
    "sum = a + b\n",
    "diff = a - b  \n",
    "product = a * b\n",
    "quotient = a / b\n",
    "remainder = a % b\n",
    "#printing the results of the operations\n",
    "print(\"sum: \" + str(sum))\n",
    "print(\"diff: \" + str(diff))\n",
    "print(\"product: \" + str(product))\n",
    "print(\"quotient: \" + str(quotient))\n",
    "print(\"remainder: \" + str(remainder))"
   ]
  },
  {
   "cell_type": "markdown",
   "id": "3f7be8f8",
   "metadata": {},
   "source": [
    "#### 4. Ask the user for a number and check if it’s positive, negative, or zero."
   ]
  },
  {
   "cell_type": "code",
   "execution_count": null,
   "id": "3ef1c3a9",
   "metadata": {},
   "outputs": [],
   "source": [
    "#checkNum checks if a number is positive, negative, or zero using if-elif-else statements\n",
    "def checkNum(num):\n",
    "    if num > 0:\n",
    "        print(\"The number is positive.\")\n",
    "    elif num == 0:\n",
    "        print(\"The number is zero.\")\n",
    "    else:\n",
    "        print(\"The number is negative.\")\n",
    "\n",
    "#prompting user for input\n",
    "print(\"Enter a number:\")\n",
    "#capturing user input and converting it to an integer\n",
    "num = int(input())\n",
    "checkNum(num)"
   ]
  },
  {
   "cell_type": "markdown",
   "id": "3e662645",
   "metadata": {},
   "source": [
    "#### 5. Write a for loop that prints numbers from 1 to 10.\n"
   ]
  },
  {
   "cell_type": "code",
   "execution_count": null,
   "id": "4140e835",
   "metadata": {},
   "outputs": [],
   "source": [
    "for i in range(1, 11):\n",
    "    print(i)"
   ]
  },
  {
   "cell_type": "markdown",
   "id": "56fb64f9",
   "metadata": {},
   "source": [
    "#### 6. Write a while loop that counts down from 5 to 1 and then prints \"Liftoff!\""
   ]
  },
  {
   "cell_type": "code",
   "execution_count": null,
   "id": "7c13e82d",
   "metadata": {},
   "outputs": [],
   "source": [
    "count = 5\n",
    "while count > 0:\n",
    "    print(count)\n",
    "    count -= 1\n",
    "print(\"Liftoff!\") "
   ]
  },
  {
   "cell_type": "markdown",
   "id": "a95798d1",
   "metadata": {},
   "source": [
    "#### 7. Functions\n",
    "Write a function square(x) that returns the square of a number.<br>\n",
    "Call this function for values 2, 5, and -3."
   ]
  },
  {
   "cell_type": "code",
   "execution_count": null,
   "id": "e4c854fc",
   "metadata": {},
   "outputs": [],
   "source": [
    "def square(num):\n",
    "    return num ** 2\n",
    "\n",
    "print(\"The square of 2 is\" , square(2))\n",
    "print(\"The square of 5 is\" , square(5))\n",
    "print(\"The square of -3 is\" , square(-3))\n"
   ]
  },
  {
   "cell_type": "markdown",
   "id": "0fa41925",
   "metadata": {},
   "source": [
    "#### 8. Lists\n",
    "Create a list of five fruits.<br>\n",
    "\n",
    "Print:<br>\n",
    "The first fruit<br>\n",
    "The last fruit<br>\n",
    "The list sorted alphabetically<br>"
   ]
  },
  {
   "cell_type": "code",
   "execution_count": null,
   "id": "3a799d07",
   "metadata": {},
   "outputs": [],
   "source": [
    "#list of fruits\n",
    "fruits = [\"apple\", \"durian\", \"mango\", \"strawberry\", \"banana\"]\n",
    "#printing first fruit at index 0\n",
    "print(\"The first fruit is \" + fruits[0])\n",
    "#printing last fruit at index -1\n",
    "print(\"The last fruit is \" + fruits[-1])\n",
    "#printing sorted list of fruits using built-in sorted function\n",
    "print(\"The alphabetical order of fruits is \" + str(sorted(fruits)))\n"
   ]
  },
  {
   "cell_type": "markdown",
   "id": "277c895b",
   "metadata": {},
   "source": [
    "#### 9. Write a program that:\n",
    "\n",
    "Asks the user to input a temperature in Celsius<br>\n",
    "Converts it to Fahrenheit<br>\n",
    "Prints the result<br>"
   ]
  },
  {
   "cell_type": "code",
   "execution_count": null,
   "id": "4ec27e61",
   "metadata": {},
   "outputs": [],
   "source": [
    "#convertToF function takes a temperature in Celsius and converts it to Fahrenheit\n",
    "#using the formula Fahrenheit = (Celsius * 9/5) + 32\n",
    "def convertToF(c):\n",
    "    return (c * 9/5) + 32\n",
    "\n",
    "print(\"Enter a temperature in Celsius: \")\n",
    "celsius = float(input())\n",
    "fahrenheit = convertToF(celsius)\n",
    "print(\"The temperature in Fahrenheigt is \", fahrenheit)"
   ]
  },
  {
   "cell_type": "markdown",
   "id": "cb86b467",
   "metadata": {},
   "source": [
    "#### 10. Tuples\n",
    "Create a tuple named person containing your name, age, and country.<br>\n",
    "Print each item using indexing.<br>\n",
    "Try to change the age. What happens? Explain in a comment."
   ]
  },
  {
   "cell_type": "code",
   "execution_count": null,
   "id": "3c3c6f72",
   "metadata": {},
   "outputs": [],
   "source": [
    "person = (\"Carmen\", 25, \"Canada\")\n",
    "print(\"Name:\", person[0])\n",
    "print(\"Age:\" , person[1])\n",
    "print(\"Country:\" , person[2])\n",
    "\n",
    "#changing the age\n",
    "#person[1] = 30\n",
    "\n",
    "#it raises an error \"TypeError: 'tuple' object does not support item assignment\"\n",
    "# because tuples are immutable and cannot be changed"
   ]
  },
  {
   "cell_type": "markdown",
   "id": "8dd861ae",
   "metadata": {},
   "source": [
    "#### 11. Sets\n",
    "- Create a set of your three favorite colors.<br>\n",
    "- Add a new color.<br>\n",
    "- Try adding a duplicate color and observe what happens.<br>\n",
    "- Remove one color from the set."
   ]
  },
  {
   "cell_type": "code",
   "execution_count": null,
   "id": "06c11d87",
   "metadata": {},
   "outputs": [],
   "source": [
    "colour = {\"blue\", \"pink\", \"yellow\"}\n",
    "\n",
    "#adding a duplicate colour\n",
    "colour.add(\"pink\")\n",
    "print(\"The colours are: \" + str(colour))\n",
    "#it will not be added since sets only allow unique values\n",
    "\n",
    "#removing a colour\n",
    "colour.remove(\"pink\")\n",
    "print(\"The colours after removing a colour are: \" + str(colour))\n"
   ]
  },
  {
   "cell_type": "markdown",
   "id": "884c7dc9",
   "metadata": {},
   "source": [
    "#### 12. Set Operations\n",
    "Given two sets:<br>\n",
    "a = {1, 2, 3, 4},\n",
    "b = {3, 4, 5, 6}<br>\n",
    "<br>\n",
    "Find the union<br>\n",
    "Find the intersection<br>\n",
    "Find the difference a - b and b - a\n",
    "\n"
   ]
  },
  {
   "cell_type": "code",
   "execution_count": null,
   "id": "4ca8d341",
   "metadata": {},
   "outputs": [],
   "source": [
    "a = {1, 2, 3, 4}\n",
    "b = {3, 4, 5, 6}\n",
    "\n",
    "#intersection of two sets\n",
    "intersection = a.intersection(b)\n",
    "print(\"The intersection of a and b is:\", intersection)\n",
    "\n",
    "#union of two sets\n",
    "union = a.union(b)\n",
    "print(\"The union of a and b is\", union)\n",
    "\n",
    "#difference of two sets\n",
    "difference = a.difference(b)\n",
    "print(\"The difference of a and b is\", difference)"
   ]
  },
  {
   "cell_type": "markdown",
   "id": "7ab0dfe8",
   "metadata": {},
   "source": [
    "#### 13. Dictionaries\n",
    "- Create a dictionary named student with keys: name, age, grade<br>\n",
    "- Print each key and value<br>\n",
    "- Add a new key email<br>\n",
    "- Update the grade"
   ]
  },
  {
   "cell_type": "code",
   "execution_count": null,
   "id": "0744a480",
   "metadata": {},
   "outputs": [],
   "source": [
    "#dictionary to store student information\n",
    "student = {\n",
    "    \"name\": \"Carmen\",\n",
    "    \"age\": 16,\n",
    "    \"grade\": 11\n",
    "}\n",
    "\n",
    "#accessing dictionary values using keys and printing them\n",
    "print(\"Student name is\", student[\"name\"])\n",
    "print(\"Student age is\", student[\"age\"])\n",
    "print(\"Student grade is\", student[\"grade\"])\n",
    "\n",
    "#updating the grade\n",
    "student[\"grade\"] = 12\n",
    "print(\"Updated student grade is\", student[\"grade\"])"
   ]
  },
  {
   "cell_type": "markdown",
   "id": "2007c279",
   "metadata": {},
   "source": [
    "#### 14. Dictionary Iteration\n",
    "Given scores = {'Math': 80, 'Science': 90, 'English': 85},<br>\n",
    "Loop through the dictionary and print:\n",
    "\"In 'subject', the score is 'value'.\"<br>\n",
    "\n",
    "Calculate and print the average score"
   ]
  },
  {
   "cell_type": "code",
   "execution_count": null,
   "id": "58e822fb",
   "metadata": {},
   "outputs": [],
   "source": [
    "#dictionary to store student information\n",
    "scores = {'Math': 80, 'Science': 90, 'English': 85}\n",
    "\n",
    "#loop through the dictionary and print each subject and score\n",
    "for subject, value in scores.items():\n",
    "    print(\"In \" + subject + \", the score is\", value)"
   ]
  },
  {
   "cell_type": "markdown",
   "id": "0de2dd4e",
   "metadata": {},
   "source": [
    "#### 15. Nested Dictionaries\n",
    "Create a dictionary to store information about two students:<br>\n",
    "\n",
    "students = {\n",
    "    'Ava': {'age': 20, 'major': 'CS'},\n",
    "    'Leo': {'age': 22, 'major': 'Math'}\n",
    "}<br>\n",
    "- Print Ava's major<br>\n",
    "- Add a new student<br>\n",
    "- Change Leo’s age to 23"
   ]
  },
  {
   "cell_type": "code",
   "execution_count": null,
   "id": "88a7dccd",
   "metadata": {},
   "outputs": [],
   "source": [
    "students = {\n",
    "    'Ava': {'age': 20, 'major': 'CS'},\n",
    "    'Leo': {'age': 22, 'major': 'Math'}\n",
    "}\n",
    "\n",
    "#print Ava's major\n",
    "print(\"Ava's major is\", students['Ava']['major'])\n",
    "\n",
    "#adding a new student\n",
    "students['Trevor'] = {'age': 21, 'major': 'Art'}\n",
    "\n",
    "#updating Leo's age\n",
    "students['Leo']['age'] = 24\n"
   ]
  },
  {
   "cell_type": "markdown",
   "id": "0754c96c",
   "metadata": {},
   "source": [
    "#### 16. Write a program that:\n",
    "\n",
    "- Takes a sentence from the user<br>\n",
    "- Splits it into words<br>\n",
    "- Creates a dictionary with the frequency of each word"
   ]
  },
  {
   "cell_type": "code",
   "execution_count": null,
   "id": "eeb3a40d",
   "metadata": {},
   "outputs": [
    {
     "name": "stdout",
     "output_type": "stream",
     "text": [
      "Enter a sentence:\n"
     ]
    }
   ],
   "source": [
    "#prompting user for sentence input and capturing it\n",
    "print(\"Enter a sentence:\")\n",
    "sentence = input()\n",
    "\n",
    "#splitting the sentence into words\n",
    "words = sentence.split()\n",
    "\n",
    "#creating a dictionary to store word counts\n",
    "word_count = {}\n",
    "\n",
    "#count the frequency of each word\n",
    "for word in words:\n",
    "    if word in word_count:\n",
    "        word_count[word] += 1\n",
    "    else:\n",
    "        word_count[word] = 1\n",
    "\n",
    "print(\"Word frequency:\", word_count)\n",
    "\n"
   ]
  },
  {
   "cell_type": "markdown",
   "id": "32bbd24f",
   "metadata": {},
   "source": [
    "## Great Job!"
   ]
  }
 ],
 "metadata": {
  "kernelspec": {
   "display_name": "Python (CVI)",
   "language": "python",
   "name": "cvi"
  },
  "language_info": {
   "codemirror_mode": {
    "name": "ipython",
    "version": 3
   },
   "file_extension": ".py",
   "mimetype": "text/x-python",
   "name": "python",
   "nbconvert_exporter": "python",
   "pygments_lexer": "ipython3",
   "version": "3.12.4"
  }
 },
 "nbformat": 4,
 "nbformat_minor": 5
}
